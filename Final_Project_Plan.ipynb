{
 "cells": [
  {
   "cell_type": "markdown",
   "metadata": {},
   "source": [
    "## A3.  Final Project Plan\n",
    "\n",
    "#### Fei Wang"
   ]
  },
  {
   "cell_type": "markdown",
   "metadata": {},
   "source": [
    "### Introduction\n",
    "\n",
    "The issue of the world's fresshwater consumption has been traditionally studied only at a national level, basing on the principle of national supply of freshwater meeting the national demand. But recent studies by Prof. Arjen Hoekstra showed that to reduce the global freshwater consumption in aggregate, not only do water policy decision makers need to consider water consumption within a global context, but also to adopt a more holistic view of policy design by taking into account of the interaction between one country's water policy and policies in other sectors like energy, trade, agriculture and so on. For instance, the inhabitants of the Europen Union are usually considered a population of high awareness of environmental protection and high efficency in natural resource consumption. But this region actually imports vast amount of products that requires large volumes of water during production processes from many developing countries like India and kazakhstan. Therefore the EU has transfered it water consumption liability onto countries of less freshwater resources and less efficient technology of water usage. In order to reverse this negative impact on global freshwater consumption, the EU might need to find alternative trade partners or leverage its own freshwater resources more in the agricultural and industrial sectors. At the individual level, the general public should be more informed with the diversity of water intensity among all the products they consume on a daily basis. For instance, as more and more people from developing countries improve their standards of living by switching toward more meat/diary-intensive diets, people should consider the corresponding high water-intensity in those foods and products.\n",
    "\n",
    "\n",
    "To study the issue of freshwater consumption within a global context, Prof. Arjen Hoekstra coined the term \"Water Footprint\" (WF), which extended the traditional definition of water usage by incorporating new dimentions like time, location, water type etc. This is a similar concept as the \"Carbon Footprint\" and is an very effective way to quantify the flow of global freshwater resources. With the establishment of the non-profit organization Water Footprint Network (WFN), the general public can now get access to numerous studies on global fresh water consumption over the last decade and learn about the huge imbalance of water usage accross the world. But the study results are mostly presented via a form of exploratory analyses, indicating key areas of extreme water footprint imbalance or the water resrouce scarcity. More hidden patterns of global water footprint would be discovered by applying more data science oriented approaches (anomaly detection for example). Also there lacks a way for the general public to easily access and interact with the data of global WF and gain quick insights."
   ]
  },
  {
   "cell_type": "markdown",
   "metadata": {},
   "source": [
    "### Project Goals"
   ]
  },
  {
   "cell_type": "markdown",
   "metadata": {},
   "source": [
    "- Perform exploratory data analyses to summarize global WF and provide a set of \"fun facts\" to the readers in order to promote the idea of holistic view of global WF policy design and diversity of water-intensity of different products.\n",
    "- Bulid an R Shiny Web App to present the issue of imbalance of global WF in a human-centered way, enabling any user to perform its own analysis on this topic in an easy and user-friendly way."
   ]
  },
  {
   "cell_type": "markdown",
   "metadata": {},
   "source": [
    "### Datasets"
   ]
  },
  {
   "cell_type": "markdown",
   "metadata": {},
   "source": [
    "Datasets from the Water Footprint Network :\n",
    "\n",
    "* National Water Footprint Statistics: http://waterfootprint.org/en/resources/water-footprint-statistics/#CP3\n",
    "* Internal Virtual Water Flow Statistics: http://waterfootprint.org/en/resources/water-footprint-statistics/#CP4\n",
    "* Water Scarcity Statistics: http://waterfootprint.org/en/resources/water-footprint-statistics/#CP5\n",
    "* Water Pollution Level Statistics: http://waterfootprint.org/en/resources/water-footprint-statistics/#CP6\n",
    "\n",
    "All the above datasets are published under the [Creative Commons BY-SA license](https://creativecommons.org/licenses/by-sa/3.0/)."
   ]
  },
  {
   "cell_type": "markdown",
   "metadata": {},
   "source": [
    "### Project Parts\n",
    "#### 1. Exploratory Analyses on the distribution of global water footprint from the following four aspects\n",
    "    - WF by National Consumption\n",
    "    - WF by National Production\n",
    "    - Global Virtual Water Flow\n",
    "    - WF and Water resource scarcity\n",
    "#### 2. Per-Capita Analysis of global water footprint\n",
    "    - Analyze the WF by consumption per capita in each country "
   ]
  },
  {
   "cell_type": "markdown",
   "metadata": {},
   "source": [
    "### Limitations"
   ]
  },
  {
   "cell_type": "markdown",
   "metadata": {},
   "source": [
    "- The datasets available on WFN about global WF are mostly average annual statistics of the WF from 1996 to 2005. As the world economy evolves, the WF of many countrie can change dramatically due to population growth, improvement of standard of living (and hence change in the water intensity of diet) in developing countries, change of trade structure etc. So this study would not necessarily reflect the current state of global WF and could not present any trend or pattern of global WF distribution. I am in contact with the WFN to see if any new data is available.\n",
    "- Lack of data on world trade for the target time window (1996 - 2005) at country-product level of granularity. Only with this information can we identify the virtual water transfers that mostly violate the idea of global WF reduction and make specific recommendations by country and product type."
   ]
  }
 ],
 "metadata": {
  "kernelspec": {
   "display_name": "Python 3",
   "language": "python",
   "name": "python3"
  },
  "language_info": {
   "codemirror_mode": {
    "name": "ipython",
    "version": 3
   },
   "file_extension": ".py",
   "mimetype": "text/x-python",
   "name": "python",
   "nbconvert_exporter": "python",
   "pygments_lexer": "ipython3",
   "version": "3.6.1"
  }
 },
 "nbformat": 4,
 "nbformat_minor": 2
}
