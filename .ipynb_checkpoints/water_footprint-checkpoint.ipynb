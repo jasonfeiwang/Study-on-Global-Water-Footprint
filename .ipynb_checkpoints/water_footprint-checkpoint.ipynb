{
 "cells": [
  {
   "cell_type": "markdown",
   "metadata": {},
   "source": [
    "#### load R packages for data munging"
   ]
  },
  {
   "cell_type": "code",
   "execution_count": 4,
   "metadata": {
    "collapsed": true
   },
   "outputs": [
    {
     "name": "stderr",
     "output_type": "stream",
     "text": [
      "Warning message:\n",
      "\"package 'dplyr' was built under R version 3.4.2\"\n",
      "Attaching package: 'dplyr'\n",
      "\n",
      "The following objects are masked from 'package:stats':\n",
      "\n",
      "    filter, lag\n",
      "\n",
      "The following objects are masked from 'package:base':\n",
      "\n",
      "    intersect, setdiff, setequal, union\n",
      "\n",
      "Loading required package: ggplot2\n",
      "\n",
      "Attaching package: 'plotly'\n",
      "\n",
      "The following object is masked from 'package:ggplot2':\n",
      "\n",
      "    last_plot\n",
      "\n",
      "The following object is masked from 'package:stats':\n",
      "\n",
      "    filter\n",
      "\n",
      "The following object is masked from 'package:graphics':\n",
      "\n",
      "    layout\n",
      "\n"
     ]
    }
   ],
   "source": [
    "library(reshape2)\n",
    "library(dplyr)\n",
    "library(plotly)\n",
    "options(scipen=999)"
   ]
  },
  {
   "cell_type": "code",
   "execution_count": 50,
   "metadata": {
    "collapsed": true
   },
   "outputs": [
    {
     "data": {
      "text/html": [
       "<ol class=list-inline>\n",
       "\t<li>210</li>\n",
       "\t<li>14</li>\n",
       "</ol>\n"
      ],
      "text/latex": [
       "\\begin{enumerate*}\n",
       "\\item 210\n",
       "\\item 14\n",
       "\\end{enumerate*}\n"
      ],
      "text/markdown": [
       "1. 210\n",
       "2. 14\n",
       "\n",
       "\n"
      ],
      "text/plain": [
       "[1] 210  14"
      ]
     },
     "metadata": {},
     "output_type": "display_data"
    },
    {
     "name": "stdout",
     "output_type": "stream",
     "text": [
      "'data.frame':\t210 obs. of  14 variables:\n",
      " $ country  : Factor w/ 210 levels \"Afghanistan\",..: 1 2 3 4 5 6 7 8 9 10 ...\n",
      " $ region   : Factor w/ 17 levels \"Caribbeans\",\"Central America\",..: 3 14 6 10 14 15 1 1 11 16 ...\n",
      " $ continent: Factor w/ 6 levels \"Africa\",\"Asia\",..: 2 3 1 5 3 1 4 4 6 2 ...\n",
      " $ X2005    : num  24.3999 3.0115 33.2679 0.0591 0.0812 ...\n",
      " $ X2006    : num  25.1836 2.9925 33.7493 0.0586 0.0834 ...\n",
      " $ X2007    : num  25.8775 2.97 34.262 0.0579 0.0849 ...\n",
      " $ X2008    : num  26.5287 2.9473 34.8111 0.057 0.0856 ...\n",
      " $ X2009    : num  27.2073 2.9275 35.4018 0.0562 0.0855 ...\n",
      " $ X2010    : num  27.9622 2.913 36.0362 0.0556 0.0844 ...\n",
      " $ X2011    : num  28.8092 2.9048 36.7171 0.0553 0.0823 ...\n",
      " $ X2012    : num  29.7268 2.9002 37.4394 0.0552 0.0793 ...\n",
      " $ X2013    : num  30.6825 2.8967 38.1861 0.0553 0.0759 ...\n",
      " $ X2014    : num  31.6275 2.8937 38.9343 0.0554 0.0728 ...\n",
      " $ X2015    : num  32.5266 2.8892 39.6665 0.0555 0.0705 ...\n"
     ]
    }
   ],
   "source": [
    "pop = read.csv('population.csv')\n",
    "\n",
    "dim(pop)\n",
    "str(pop)\n",
    "\n",
    "# convert all factor variables into character\n",
    "pop%>% mutate_if(is.factor, as.character) -> pop"
   ]
  },
  {
   "cell_type": "markdown",
   "metadata": {},
   "source": [
    "#### change column names (X2005 --> 2005)"
   ]
  },
  {
   "cell_type": "code",
   "execution_count": 51,
   "metadata": {
    "collapsed": true
   },
   "outputs": [],
   "source": [
    "year_names = names(pop)[4:length(names(pop))]\n",
    "names(pop)[4:length(names(pop))] = substring(year_names, 2)"
   ]
  },
  {
   "cell_type": "markdown",
   "metadata": {},
   "source": [
    "#### reshape the dataframe of population"
   ]
  },
  {
   "cell_type": "code",
   "execution_count": 52,
   "metadata": {
    "collapsed": true
   },
   "outputs": [],
   "source": [
    "a = melt(pop, id.vars = c(\"country\", \"region\", \"continent\"))\n",
    "\n",
    "names(a) <- c('country', 'region', 'continent', 'year', 'pop')\n",
    "\n",
    "pop = a"
   ]
  },
  {
   "cell_type": "code",
   "execution_count": 67,
   "metadata": {},
   "outputs": [
    {
     "name": "stdout",
     "output_type": "stream",
     "text": [
      "'data.frame':\t2310 obs. of  5 variables:\n",
      " $ country  : chr  \"Afghanistan\" \"Afghanistan\" \"Afghanistan\" \"Afghanistan\" ...\n",
      " $ region   : chr  \"Central Asia\" \"Central Asia\" \"Central Asia\" \"Central Asia\" ...\n",
      " $ continent: chr  \"Asia\" \"Asia\" \"Asia\" \"Asia\" ...\n",
      " $ year     : num  2005 2006 2007 2008 2009 ...\n",
      " $ pop      : num  24.4 25.2 25.9 26.5 27.2 ...\n"
     ]
    }
   ],
   "source": [
    "str(pop)"
   ]
  },
  {
   "cell_type": "markdown",
   "metadata": {},
   "source": [
    "#### change year from factor to numeric and sort the dataframe by country and year"
   ]
  },
  {
   "cell_type": "code",
   "execution_count": 66,
   "metadata": {
    "collapsed": true
   },
   "outputs": [],
   "source": [
    "pop$year = as.numeric(as.character(pop$year))\n",
    "\n",
    "pop = pop[order(pop$country, pop$year), ]"
   ]
  },
  {
   "cell_type": "markdown",
   "metadata": {},
   "source": [
    "### load data of projected virtual water export"
   ]
  },
  {
   "cell_type": "code",
   "execution_count": 155,
   "metadata": {
    "collapsed": true
   },
   "outputs": [
    {
     "name": "stdout",
     "output_type": "stream",
     "text": [
      "'data.frame':\t1680 obs. of  28 variables:\n",
      " $ country     : chr  \"Afghanistan\" \"Albania\" \"Algeria\" \"American Samoa\" ...\n",
      " $ product_type: chr  \"crop\" \"crop\" \"crop\" \"crop\" ...\n",
      " $ water_type  : chr  \"green\" \"green\" \"green\" \"green\" ...\n",
      " $ X1996       : num  159.5 282.93 188.51 3.32 30.5 ...\n",
      " $ X1997       : num  159.5 282.93 188.51 3.32 30.5 ...\n",
      " $ X1998       : num  159.5 282.93 188.51 3.32 30.5 ...\n",
      " $ X1999       : num  159.5 282.93 188.51 3.32 30.5 ...\n",
      " $ X2000       : num  159.5 282.93 188.51 3.32 30.5 ...\n",
      " $ X2001       : num  159.5 282.93 188.51 3.32 30.5 ...\n",
      " $ X2002       : num  159.5 282.93 188.51 3.32 30.5 ...\n",
      " $ X2003       : num  159.5 282.93 188.51 3.32 30.5 ...\n",
      " $ X2004       : num  159.5 282.93 188.51 3.32 30.5 ...\n",
      " $ X2005       : num  159.5 282.93 188.51 3.32 30.5 ...\n",
      " $ X2006       : num  164.29 291.42 194.17 3.42 31.41 ...\n",
      " $ X2007       : num  169.22 300.16 200 3.53 32.35 ...\n",
      " $ X2008       : num  174.29 309.17 206 3.63 33.32 ...\n",
      " $ X2009       : num  179.52 318.44 212.18 3.74 34.32 ...\n",
      " $ X2010       : num  184.91 328 218.54 3.85 35.35 ...\n",
      " $ X2011       : num  192.3 341.12 227.28 4.01 36.77 ...\n",
      " $ X2012       : num  200 354.76 236.37 4.17 38.24 ...\n",
      " $ X2013       : num  208 368.95 245.83 4.34 39.77 ...\n",
      " $ X2014       : num  216.32 383.71 255.66 4.51 41.36 ...\n",
      " $ X2015       : num  224.97 399.06 265.89 4.69 43.01 ...\n",
      " $ X2016       : num  236.22 419.01 279.18 4.92 45.16 ...\n",
      " $ X2017       : num  248.03 439.96 293.14 5.17 47.42 ...\n",
      " $ X2018       : num  260.43 461.96 307.8 5.43 49.79 ...\n",
      " $ X2019       : num  273.5 485.1 323.2 5.7 52.3 ...\n",
      " $ X2020       : num  287.12 509.31 339.35 5.99 54.9 ...\n"
     ]
    },
    {
     "data": {
      "text/html": [
       "<table>\n",
       "<thead><tr><th scope=col>country</th><th scope=col>product_type</th><th scope=col>water_type</th><th scope=col>X1996</th><th scope=col>X1997</th><th scope=col>X1998</th><th scope=col>X1999</th><th scope=col>X2000</th><th scope=col>X2001</th><th scope=col>X2002</th><th scope=col>...</th><th scope=col>X2011</th><th scope=col>X2012</th><th scope=col>X2013</th><th scope=col>X2014</th><th scope=col>X2015</th><th scope=col>X2016</th><th scope=col>X2017</th><th scope=col>X2018</th><th scope=col>X2019</th><th scope=col>X2020</th></tr></thead>\n",
       "<tbody>\n",
       "\t<tr><td>Afghanistan   </td><td>crop          </td><td>green         </td><td>159.502828    </td><td>159.502828    </td><td>159.502828    </td><td>159.502828    </td><td>159.502828    </td><td>159.502828    </td><td>159.502828    </td><td>...           </td><td>192.303793    </td><td>199.995945    </td><td>207.995783    </td><td>216.315614    </td><td>224.968239    </td><td>236.216651    </td><td>248.027483    </td><td>260.428857    </td><td>273.450300    </td><td>287.122815    </td></tr>\n",
       "\t<tr><td>Albania       </td><td>crop          </td><td>green         </td><td>282.933966    </td><td>282.933966    </td><td>282.933966    </td><td>282.933966    </td><td>282.933966    </td><td>282.933966    </td><td>282.933966    </td><td>...           </td><td>341.117932    </td><td>354.762649    </td><td>368.953155    </td><td>383.711281    </td><td>399.059733    </td><td>419.012719    </td><td>439.963355    </td><td>461.961523    </td><td>485.059599    </td><td>509.312579    </td></tr>\n",
       "\t<tr><td>Algeria       </td><td>crop          </td><td>green         </td><td>188.514934    </td><td>188.514934    </td><td>188.514934    </td><td>188.514934    </td><td>188.514934    </td><td>188.514934    </td><td>188.514934    </td><td>...           </td><td>227.282095    </td><td>236.373379    </td><td>245.828314    </td><td>255.661446    </td><td>265.887904    </td><td>279.182299    </td><td>293.141414    </td><td>307.798485    </td><td>323.188409    </td><td>339.347830    </td></tr>\n",
       "\t<tr><td>American Samoa</td><td>crop          </td><td>green         </td><td>  3.324977    </td><td>  3.324977    </td><td>  3.324977    </td><td>  3.324977    </td><td>  3.324977    </td><td>  3.324977    </td><td>  3.324977    </td><td>...           </td><td>  4.008742    </td><td>  4.169092    </td><td>  4.335855    </td><td>  4.509289    </td><td>  4.689661    </td><td>  4.924144    </td><td>  5.170351    </td><td>  5.428869    </td><td>  5.700312    </td><td>  5.985328    </td></tr>\n",
       "\t<tr><td>Andorra       </td><td>crop          </td><td>green         </td><td> 30.497044    </td><td> 30.497044    </td><td> 30.497044    </td><td> 30.497044    </td><td> 30.497044    </td><td> 30.497044    </td><td> 30.497044    </td><td>...           </td><td> 36.768609    </td><td> 38.239354    </td><td> 39.768928    </td><td> 41.359685    </td><td> 43.014072    </td><td> 45.164776    </td><td> 47.423015    </td><td> 49.794165    </td><td> 52.283874    </td><td> 54.898067    </td></tr>\n",
       "\t<tr><td>Angola        </td><td>crop          </td><td>green         </td><td>409.539253    </td><td>409.539253    </td><td>409.539253    </td><td>409.539253    </td><td>409.539253    </td><td>409.539253    </td><td>409.539253    </td><td>...           </td><td>493.758968    </td><td>513.509327    </td><td>534.049700    </td><td>555.411688    </td><td>577.628155    </td><td>606.509563    </td><td>636.835041    </td><td>668.676793    </td><td>702.110633    </td><td>737.216164    </td></tr>\n",
       "</tbody>\n",
       "</table>\n"
      ],
      "text/latex": [
       "\\begin{tabular}{r|llllllllllllllllllllllllllll}\n",
       " country & product\\_type & water\\_type & X1996 & X1997 & X1998 & X1999 & X2000 & X2001 & X2002 & ... & X2011 & X2012 & X2013 & X2014 & X2015 & X2016 & X2017 & X2018 & X2019 & X2020\\\\\n",
       "\\hline\n",
       "\t Afghanistan    & crop           & green          & 159.502828     & 159.502828     & 159.502828     & 159.502828     & 159.502828     & 159.502828     & 159.502828     & ...            & 192.303793     & 199.995945     & 207.995783     & 216.315614     & 224.968239     & 236.216651     & 248.027483     & 260.428857     & 273.450300     & 287.122815    \\\\\n",
       "\t Albania        & crop           & green          & 282.933966     & 282.933966     & 282.933966     & 282.933966     & 282.933966     & 282.933966     & 282.933966     & ...            & 341.117932     & 354.762649     & 368.953155     & 383.711281     & 399.059733     & 419.012719     & 439.963355     & 461.961523     & 485.059599     & 509.312579    \\\\\n",
       "\t Algeria        & crop           & green          & 188.514934     & 188.514934     & 188.514934     & 188.514934     & 188.514934     & 188.514934     & 188.514934     & ...            & 227.282095     & 236.373379     & 245.828314     & 255.661446     & 265.887904     & 279.182299     & 293.141414     & 307.798485     & 323.188409     & 339.347830    \\\\\n",
       "\t American Samoa & crop           & green          &   3.324977     &   3.324977     &   3.324977     &   3.324977     &   3.324977     &   3.324977     &   3.324977     & ...            &   4.008742     &   4.169092     &   4.335855     &   4.509289     &   4.689661     &   4.924144     &   5.170351     &   5.428869     &   5.700312     &   5.985328    \\\\\n",
       "\t Andorra        & crop           & green          &  30.497044     &  30.497044     &  30.497044     &  30.497044     &  30.497044     &  30.497044     &  30.497044     & ...            &  36.768609     &  38.239354     &  39.768928     &  41.359685     &  43.014072     &  45.164776     &  47.423015     &  49.794165     &  52.283874     &  54.898067    \\\\\n",
       "\t Angola         & crop           & green          & 409.539253     & 409.539253     & 409.539253     & 409.539253     & 409.539253     & 409.539253     & 409.539253     & ...            & 493.758968     & 513.509327     & 534.049700     & 555.411688     & 577.628155     & 606.509563     & 636.835041     & 668.676793     & 702.110633     & 737.216164    \\\\\n",
       "\\end{tabular}\n"
      ],
      "text/markdown": [
       "\n",
       "country | product_type | water_type | X1996 | X1997 | X1998 | X1999 | X2000 | X2001 | X2002 | ... | X2011 | X2012 | X2013 | X2014 | X2015 | X2016 | X2017 | X2018 | X2019 | X2020 | \n",
       "|---|---|---|---|---|---|\n",
       "| Afghanistan    | crop           | green          | 159.502828     | 159.502828     | 159.502828     | 159.502828     | 159.502828     | 159.502828     | 159.502828     | ...            | 192.303793     | 199.995945     | 207.995783     | 216.315614     | 224.968239     | 236.216651     | 248.027483     | 260.428857     | 273.450300     | 287.122815     | \n",
       "| Albania        | crop           | green          | 282.933966     | 282.933966     | 282.933966     | 282.933966     | 282.933966     | 282.933966     | 282.933966     | ...            | 341.117932     | 354.762649     | 368.953155     | 383.711281     | 399.059733     | 419.012719     | 439.963355     | 461.961523     | 485.059599     | 509.312579     | \n",
       "| Algeria        | crop           | green          | 188.514934     | 188.514934     | 188.514934     | 188.514934     | 188.514934     | 188.514934     | 188.514934     | ...            | 227.282095     | 236.373379     | 245.828314     | 255.661446     | 265.887904     | 279.182299     | 293.141414     | 307.798485     | 323.188409     | 339.347830     | \n",
       "| American Samoa | crop           | green          |   3.324977     |   3.324977     |   3.324977     |   3.324977     |   3.324977     |   3.324977     |   3.324977     | ...            |   4.008742     |   4.169092     |   4.335855     |   4.509289     |   4.689661     |   4.924144     |   5.170351     |   5.428869     |   5.700312     |   5.985328     | \n",
       "| Andorra        | crop           | green          |  30.497044     |  30.497044     |  30.497044     |  30.497044     |  30.497044     |  30.497044     |  30.497044     | ...            |  36.768609     |  38.239354     |  39.768928     |  41.359685     |  43.014072     |  45.164776     |  47.423015     |  49.794165     |  52.283874     |  54.898067     | \n",
       "| Angola         | crop           | green          | 409.539253     | 409.539253     | 409.539253     | 409.539253     | 409.539253     | 409.539253     | 409.539253     | ...            | 493.758968     | 513.509327     | 534.049700     | 555.411688     | 577.628155     | 606.509563     | 636.835041     | 668.676793     | 702.110633     | 737.216164     | \n",
       "\n",
       "\n"
      ],
      "text/plain": [
       "  country        product_type water_type X1996      X1997      X1998     \n",
       "1 Afghanistan    crop         green      159.502828 159.502828 159.502828\n",
       "2 Albania        crop         green      282.933966 282.933966 282.933966\n",
       "3 Algeria        crop         green      188.514934 188.514934 188.514934\n",
       "4 American Samoa crop         green        3.324977   3.324977   3.324977\n",
       "5 Andorra        crop         green       30.497044  30.497044  30.497044\n",
       "6 Angola         crop         green      409.539253 409.539253 409.539253\n",
       "  X1999      X2000      X2001      X2002      ... X2011      X2012     \n",
       "1 159.502828 159.502828 159.502828 159.502828 ... 192.303793 199.995945\n",
       "2 282.933966 282.933966 282.933966 282.933966 ... 341.117932 354.762649\n",
       "3 188.514934 188.514934 188.514934 188.514934 ... 227.282095 236.373379\n",
       "4   3.324977   3.324977   3.324977   3.324977 ...   4.008742   4.169092\n",
       "5  30.497044  30.497044  30.497044  30.497044 ...  36.768609  38.239354\n",
       "6 409.539253 409.539253 409.539253 409.539253 ... 493.758968 513.509327\n",
       "  X2013      X2014      X2015      X2016      X2017      X2018      X2019     \n",
       "1 207.995783 216.315614 224.968239 236.216651 248.027483 260.428857 273.450300\n",
       "2 368.953155 383.711281 399.059733 419.012719 439.963355 461.961523 485.059599\n",
       "3 245.828314 255.661446 265.887904 279.182299 293.141414 307.798485 323.188409\n",
       "4   4.335855   4.509289   4.689661   4.924144   5.170351   5.428869   5.700312\n",
       "5  39.768928  41.359685  43.014072  45.164776  47.423015  49.794165  52.283874\n",
       "6 534.049700 555.411688 577.628155 606.509563 636.835041 668.676793 702.110633\n",
       "  X2020     \n",
       "1 287.122815\n",
       "2 509.312579\n",
       "3 339.347830\n",
       "4   5.985328\n",
       "5  54.898067\n",
       "6 737.216164"
      ]
     },
     "metadata": {},
     "output_type": "display_data"
    }
   ],
   "source": [
    "# read in the projected vitual water exports data\n",
    "projected = read.csv(\"water_projected_exports.csv\")\n",
    "\n",
    "# convert factor columns into character\n",
    "projected%>% mutate_if(is.factor, as.character) -> projected\n",
    "str(projected)\n",
    "head(projected)"
   ]
  },
  {
   "cell_type": "code",
   "execution_count": 156,
   "metadata": {
    "collapsed": true
   },
   "outputs": [],
   "source": [
    "year_names = names(projected)[4:length(names(projected))]\n",
    "names(projected)[4:length(names(projected))] = substring(year_names, 2)"
   ]
  },
  {
   "cell_type": "code",
   "execution_count": 157,
   "metadata": {
    "collapsed": true
   },
   "outputs": [],
   "source": [
    "a = melt(projected, id.vars = c(\"country\", \"product_type\", \"water_type\"))\n",
    "\n",
    "names(a) <- c('country', 'product_type', 'water_type', 'year', 'exp')"
   ]
  },
  {
   "cell_type": "code",
   "execution_count": 158,
   "metadata": {
    "collapsed": true
   },
   "outputs": [],
   "source": [
    "a$year = as.numeric(as.character(a$year))\n",
    "a = a[order(a$country, a$product_type, a$water_type, a$year), ]\n",
    "\n",
    "projected = a"
   ]
  },
  {
   "cell_type": "code",
   "execution_count": 159,
   "metadata": {
    "collapsed": true
   },
   "outputs": [],
   "source": [
    "df = merge(x = pop, y = projected, on = c('country', 'year'), all = TRUE)"
   ]
  },
  {
   "cell_type": "markdown",
   "metadata": {},
   "source": [
    "#### pop dataframe only has data from 2005 to 2015"
   ]
  },
  {
   "cell_type": "code",
   "execution_count": 160,
   "metadata": {},
   "outputs": [
    {
     "data": {
      "text/html": [
       "<ol class=list-inline>\n",
       "\t<li>1996</li>\n",
       "\t<li>1997</li>\n",
       "\t<li>1998</li>\n",
       "\t<li>1999</li>\n",
       "\t<li>2000</li>\n",
       "\t<li>2001</li>\n",
       "\t<li>2002</li>\n",
       "\t<li>2003</li>\n",
       "\t<li>2004</li>\n",
       "\t<li>2016</li>\n",
       "\t<li>2017</li>\n",
       "\t<li>2018</li>\n",
       "\t<li>2019</li>\n",
       "\t<li>2020</li>\n",
       "</ol>\n"
      ],
      "text/latex": [
       "\\begin{enumerate*}\n",
       "\\item 1996\n",
       "\\item 1997\n",
       "\\item 1998\n",
       "\\item 1999\n",
       "\\item 2000\n",
       "\\item 2001\n",
       "\\item 2002\n",
       "\\item 2003\n",
       "\\item 2004\n",
       "\\item 2016\n",
       "\\item 2017\n",
       "\\item 2018\n",
       "\\item 2019\n",
       "\\item 2020\n",
       "\\end{enumerate*}\n"
      ],
      "text/markdown": [
       "1. 1996\n",
       "2. 1997\n",
       "3. 1998\n",
       "4. 1999\n",
       "5. 2000\n",
       "6. 2001\n",
       "7. 2002\n",
       "8. 2003\n",
       "9. 2004\n",
       "10. 2016\n",
       "11. 2017\n",
       "12. 2018\n",
       "13. 2019\n",
       "14. 2020\n",
       "\n",
       "\n"
      ],
      "text/plain": [
       " [1] 1996 1997 1998 1999 2000 2001 2002 2003 2004 2016 2017 2018 2019 2020"
      ]
     },
     "metadata": {},
     "output_type": "display_data"
    }
   ],
   "source": [
    "unique(df[is.na(df$region), 'year'])"
   ]
  },
  {
   "cell_type": "markdown",
   "metadata": {},
   "source": [
    "#### add region and continent to all rows in the merged dataset df"
   ]
  },
  {
   "cell_type": "code",
   "execution_count": 161,
   "metadata": {
    "collapsed": true
   },
   "outputs": [],
   "source": [
    "country_region = unique(pop[, c('country', 'region', 'continent')])"
   ]
  },
  {
   "cell_type": "code",
   "execution_count": 164,
   "metadata": {
    "collapsed": true
   },
   "outputs": [],
   "source": [
    "df[, c('region', 'continent')] <- NULL"
   ]
  },
  {
   "cell_type": "code",
   "execution_count": 166,
   "metadata": {
    "collapsed": true
   },
   "outputs": [],
   "source": [
    "a = merge(x = df, y = country_region, on = 'country', all = TRUE)"
   ]
  },
  {
   "cell_type": "code",
   "execution_count": 173,
   "metadata": {
    "collapsed": true
   },
   "outputs": [],
   "source": [
    "df = a[, c('country', 'region', 'continent', 'year', 'pop', 'product_type', 'water_type', 'exp')]"
   ]
  },
  {
   "cell_type": "code",
   "execution_count": 188,
   "metadata": {},
   "outputs": [
    {
     "data": {
      "text/html": [],
      "text/latex": [],
      "text/markdown": [],
      "text/plain": [
       "numeric(0)"
      ]
     },
     "metadata": {},
     "output_type": "display_data"
    }
   ],
   "source": [
    "unique(df[is.na(df$region), 'year'])"
   ]
  },
  {
   "cell_type": "code",
   "execution_count": 14,
   "metadata": {
    "collapsed": true
   },
   "outputs": [],
   "source": [
    "df[df$country == 'C?te d\\'Ivoire', ]$country <- 'Cote d\\'Ivoire'\n",
    "df[df$country == 'Congo, Dem Republic', ]$country <- 'Congo, Democratic Republic'"
   ]
  },
  {
   "cell_type": "markdown",
   "metadata": {},
   "source": [
    "### Load dataset of current water footprint"
   ]
  },
  {
   "cell_type": "code",
   "execution_count": 114,
   "metadata": {
    "collapsed": true
   },
   "outputs": [
    {
     "name": "stdout",
     "output_type": "stream",
     "text": [
      "'data.frame':\t3360 obs. of  5 variables:\n",
      " $ country     : chr  \"Afghanistan\" \"Albania\" \"Algeria\" \"American Samoa\" ...\n",
      " $ action      : chr  \"import\" \"import\" \"import\" \"import\" ...\n",
      " $ product_type: chr  \"crop\" \"crop\" \"crop\" \"crop\" ...\n",
      " $ water_type  : chr  \"green\" \"green\" \"green\" \"green\" ...\n",
      " $ amount      : num  1219.775 984.332 13433.361 0.501 85.171 ...\n"
     ]
    },
    {
     "data": {
      "text/html": [
       "<table>\n",
       "<thead><tr><th scope=col>country</th><th scope=col>action</th><th scope=col>product_type</th><th scope=col>water_type</th><th scope=col>amount</th></tr></thead>\n",
       "<tbody>\n",
       "\t<tr><td>Afghanistan   </td><td>import        </td><td>crop          </td><td>green         </td><td> 1219.7752710 </td></tr>\n",
       "\t<tr><td>Albania       </td><td>import        </td><td>crop          </td><td>green         </td><td>  984.3321242 </td></tr>\n",
       "\t<tr><td>Algeria       </td><td>import        </td><td>crop          </td><td>green         </td><td>13433.3606100 </td></tr>\n",
       "\t<tr><td>American Samoa</td><td>import        </td><td>crop          </td><td>green         </td><td>    0.5014506 </td></tr>\n",
       "\t<tr><td>Andorra       </td><td>import        </td><td>crop          </td><td>green         </td><td>   85.1706583 </td></tr>\n",
       "\t<tr><td>Angola        </td><td>import        </td><td>crop          </td><td>green         </td><td> 1084.8664350 </td></tr>\n",
       "</tbody>\n",
       "</table>\n"
      ],
      "text/latex": [
       "\\begin{tabular}{r|lllll}\n",
       " country & action & product\\_type & water\\_type & amount\\\\\n",
       "\\hline\n",
       "\t Afghanistan    & import         & crop           & green          &  1219.7752710 \\\\\n",
       "\t Albania        & import         & crop           & green          &   984.3321242 \\\\\n",
       "\t Algeria        & import         & crop           & green          & 13433.3606100 \\\\\n",
       "\t American Samoa & import         & crop           & green          &     0.5014506 \\\\\n",
       "\t Andorra        & import         & crop           & green          &    85.1706583 \\\\\n",
       "\t Angola         & import         & crop           & green          &  1084.8664350 \\\\\n",
       "\\end{tabular}\n"
      ],
      "text/markdown": [
       "\n",
       "country | action | product_type | water_type | amount | \n",
       "|---|---|---|---|---|---|\n",
       "| Afghanistan    | import         | crop           | green          |  1219.7752710  | \n",
       "| Albania        | import         | crop           | green          |   984.3321242  | \n",
       "| Algeria        | import         | crop           | green          | 13433.3606100  | \n",
       "| American Samoa | import         | crop           | green          |     0.5014506  | \n",
       "| Andorra        | import         | crop           | green          |    85.1706583  | \n",
       "| Angola         | import         | crop           | green          |  1084.8664350  | \n",
       "\n",
       "\n"
      ],
      "text/plain": [
       "  country        action product_type water_type amount       \n",
       "1 Afghanistan    import crop         green       1219.7752710\n",
       "2 Albania        import crop         green        984.3321242\n",
       "3 Algeria        import crop         green      13433.3606100\n",
       "4 American Samoa import crop         green          0.5014506\n",
       "5 Andorra        import crop         green         85.1706583\n",
       "6 Angola         import crop         green       1084.8664350"
      ]
     },
     "metadata": {},
     "output_type": "display_data"
    }
   ],
   "source": [
    "current = read.csv(\"water_current.csv\")\n",
    "current%>% mutate_if(is.factor, as.character) -> current\n",
    "str(current)\n",
    "head(current)"
   ]
  },
  {
   "cell_type": "markdown",
   "metadata": {},
   "source": [
    "#### add total water footprint to each country, product_type, water_type"
   ]
  },
  {
   "cell_type": "code",
   "execution_count": 115,
   "metadata": {
    "collapsed": true
   },
   "outputs": [],
   "source": [
    "a = aggregate(amount ~ country+product_type+water_type, current, function(x) sum(x))\n",
    "\n",
    "a$action = 'total'\n",
    "\n",
    "a = a[, c('country', 'action', 'product_type', 'water_type', 'amount')]"
   ]
  },
  {
   "cell_type": "code",
   "execution_count": 123,
   "metadata": {
    "collapsed": true
   },
   "outputs": [],
   "source": [
    "current = rbind(current, a)"
   ]
  },
  {
   "cell_type": "markdown",
   "metadata": {},
   "source": [
    "#### add net water footprint to each country, product_type, water_type"
   ]
  },
  {
   "cell_type": "code",
   "execution_count": 22,
   "metadata": {
    "collapsed": true
   },
   "outputs": [],
   "source": [
    "a = aggregate(amount ~ country+product_type+water_type, current[current$action == 'import', ], function(x) sum(x))\n",
    "\n",
    "b = aggregate(amount ~ country+product_type+water_type, current[current$action == 'export', ], function(x) sum(x))\n",
    "\n",
    "names(a) <- c('country', 'product_type', 'water_type', 'import')\n",
    "\n",
    "names(b) <- c('country', 'product_type', 'water_type', 'export')\n",
    "\n",
    "c = merge(a, b, on = c('country', 'product_type', 'water_type'), all = TRUE)"
   ]
  },
  {
   "cell_type": "code",
   "execution_count": 41,
   "metadata": {
    "collapsed": true
   },
   "outputs": [],
   "source": [
    "c$amount = c$import - c$export"
   ]
  },
  {
   "cell_type": "code",
   "execution_count": 43,
   "metadata": {
    "collapsed": true
   },
   "outputs": [],
   "source": [
    "c = c[, c('country', 'product_type', 'water_type', 'amount')]"
   ]
  },
  {
   "cell_type": "code",
   "execution_count": 46,
   "metadata": {
    "collapsed": true
   },
   "outputs": [],
   "source": [
    "c$action = 'net'"
   ]
  },
  {
   "cell_type": "code",
   "execution_count": 48,
   "metadata": {
    "collapsed": true
   },
   "outputs": [],
   "source": [
    "c = c[, c('country', 'action', 'product_type', 'water_type', 'amount')]"
   ]
  },
  {
   "cell_type": "code",
   "execution_count": 53,
   "metadata": {
    "collapsed": true
   },
   "outputs": [],
   "source": [
    "current = rbind(current, c)"
   ]
  },
  {
   "cell_type": "code",
   "execution_count": 5,
   "metadata": {
    "collapsed": true
   },
   "outputs": [],
   "source": [
    "current[current$country == 'C?te d\\'Ivoire', ]$country <- 'Cote d\\'Ivoire'\n",
    "current[current$country == 'Congo, Dem Republic', ]$country <- 'Congo, Democratic Republic'"
   ]
  },
  {
   "cell_type": "markdown",
   "metadata": {},
   "source": [
    "#### save files into RData"
   ]
  },
  {
   "cell_type": "code",
   "execution_count": 15,
   "metadata": {
    "collapsed": true
   },
   "outputs": [],
   "source": [
    "save(current, file = 'current.RData')"
   ]
  },
  {
   "cell_type": "code",
   "execution_count": 6,
   "metadata": {
    "collapsed": true
   },
   "outputs": [],
   "source": [
    "df[df$water_type == 'Blue', ]$water_type <- 'blue'"
   ]
  },
  {
   "cell_type": "code",
   "execution_count": 8,
   "metadata": {
    "collapsed": true
   },
   "outputs": [],
   "source": [
    "df_population <- df"
   ]
  },
  {
   "cell_type": "code",
   "execution_count": 9,
   "metadata": {
    "collapsed": true
   },
   "outputs": [],
   "source": [
    "save(df_population, file = 'df.RData')"
   ]
  },
  {
   "cell_type": "markdown",
   "metadata": {},
   "source": [
    "### Projection and Trending"
   ]
  },
  {
   "cell_type": "code",
   "execution_count": 1,
   "metadata": {
    "collapsed": true
   },
   "outputs": [],
   "source": [
    "load('df.RData')"
   ]
  },
  {
   "cell_type": "code",
   "execution_count": 2,
   "metadata": {
    "collapsed": true
   },
   "outputs": [],
   "source": [
    "load('current.RData')"
   ]
  },
  {
   "cell_type": "code",
   "execution_count": 5,
   "metadata": {
    "collapsed": true
   },
   "outputs": [],
   "source": [
    "dfPlot = dcast(df[df$country %in% c('USA', 'China'), ], year ~ country, value.var = 'exp', sum)"
   ]
  },
  {
   "cell_type": "code",
   "execution_count": 21,
   "metadata": {
    "collapsed": true
   },
   "outputs": [],
   "source": [
    "dfPlot = dcast(df[df$country %in% c('USA', 'China'), ], year ~ country, value.var = 'exp', sum)\n",
    "p <- plot_ly(dfPlot, x = ~year, y = ~USA, type = 'bar', name = 'USA') %>%\n",
    "  add_trace(y = ~China, name = 'China') %>%\n",
    "  layout(yaxis = list(title = 'Virtual Water Exported (x 1,000,000 m³)'), barmode = 'group')"
   ]
  },
  {
   "cell_type": "code",
   "execution_count": null,
   "metadata": {
    "collapsed": true
   },
   "outputs": [],
   "source": []
  },
  {
   "cell_type": "code",
   "execution_count": 7,
   "metadata": {
    "collapsed": true
   },
   "outputs": [],
   "source": [
    "write.csv(current, file = 'df_current.csv')"
   ]
  },
  {
   "cell_type": "code",
   "execution_count": 8,
   "metadata": {
    "collapsed": true
   },
   "outputs": [],
   "source": [
    "write.csv(df, file = 'df_df.csv')"
   ]
  },
  {
   "cell_type": "code",
   "execution_count": 4,
   "metadata": {},
   "outputs": [
    {
     "data": {
      "text/html": [
       "<ol class=list-inline>\n",
       "\t<li>'country'</li>\n",
       "\t<li>'action'</li>\n",
       "\t<li>'product_type'</li>\n",
       "\t<li>'water_type'</li>\n",
       "\t<li>'amount'</li>\n",
       "</ol>\n"
      ],
      "text/latex": [
       "\\begin{enumerate*}\n",
       "\\item 'country'\n",
       "\\item 'action'\n",
       "\\item 'product\\_type'\n",
       "\\item 'water\\_type'\n",
       "\\item 'amount'\n",
       "\\end{enumerate*}\n"
      ],
      "text/markdown": [
       "1. 'country'\n",
       "2. 'action'\n",
       "3. 'product_type'\n",
       "4. 'water_type'\n",
       "5. 'amount'\n",
       "\n",
       "\n"
      ],
      "text/plain": [
       "[1] \"country\"      \"action\"       \"product_type\" \"water_type\"   \"amount\"      "
      ]
     },
     "metadata": {},
     "output_type": "display_data"
    }
   ],
   "source": [
    "names(current)"
   ]
  },
  {
   "cell_type": "code",
   "execution_count": 5,
   "metadata": {},
   "outputs": [
    {
     "data": {
      "text/html": [
       "<ol class=list-inline>\n",
       "\t<li>'country'</li>\n",
       "\t<li>'region'</li>\n",
       "\t<li>'continent'</li>\n",
       "\t<li>'year'</li>\n",
       "\t<li>'pop'</li>\n",
       "\t<li>'product_type'</li>\n",
       "\t<li>'water_type'</li>\n",
       "\t<li>'exp'</li>\n",
       "</ol>\n"
      ],
      "text/latex": [
       "\\begin{enumerate*}\n",
       "\\item 'country'\n",
       "\\item 'region'\n",
       "\\item 'continent'\n",
       "\\item 'year'\n",
       "\\item 'pop'\n",
       "\\item 'product\\_type'\n",
       "\\item 'water\\_type'\n",
       "\\item 'exp'\n",
       "\\end{enumerate*}\n"
      ],
      "text/markdown": [
       "1. 'country'\n",
       "2. 'region'\n",
       "3. 'continent'\n",
       "4. 'year'\n",
       "5. 'pop'\n",
       "6. 'product_type'\n",
       "7. 'water_type'\n",
       "8. 'exp'\n",
       "\n",
       "\n"
      ],
      "text/plain": [
       "[1] \"country\"      \"region\"       \"continent\"    \"year\"         \"pop\"         \n",
       "[6] \"product_type\" \"water_type\"   \"exp\"         "
      ]
     },
     "metadata": {},
     "output_type": "display_data"
    }
   ],
   "source": [
    "names(df)"
   ]
  },
  {
   "cell_type": "code",
   "execution_count": 6,
   "metadata": {},
   "outputs": [
    {
     "data": {
      "text/plain": [
       "\n",
       "export import    net  total \n",
       "  1680   1680   1680   1680 "
      ]
     },
     "metadata": {},
     "output_type": "display_data"
    }
   ],
   "source": [
    "table(current$action)"
   ]
  }
 ],
 "metadata": {
  "kernelspec": {
   "display_name": "R",
   "language": "R",
   "name": "ir"
  },
  "language_info": {
   "codemirror_mode": "r",
   "file_extension": ".r",
   "mimetype": "text/x-r-source",
   "name": "R",
   "pygments_lexer": "r",
   "version": "3.4.1"
  }
 },
 "nbformat": 4,
 "nbformat_minor": 2
}
